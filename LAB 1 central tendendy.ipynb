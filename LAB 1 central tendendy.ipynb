{
 "cells": [
  {
   "cell_type": "code",
   "execution_count": 1,
   "id": "db8fd279",
   "metadata": {},
   "outputs": [
    {
     "name": "stdout",
     "output_type": "stream",
     "text": [
      "Array:\n",
      "[[1 2 3]\n",
      " [4 5 6]]\n",
      "Dimensions: 2\n",
      "Shape: (2, 3)\n",
      "Size: 6\n"
     ]
    }
   ],
   "source": [
    "#create a 2d np array, print its diemension, shape and size\n",
    "import numpy as np\n",
    "\n",
    "array_2d = np.array([[1, 2, 3], [4, 5, 6]])\n",
    "\n",
    "print(\"Array:\")\n",
    "print(array_2d)\n",
    "\n",
    "print(\"Dimensions:\", array_2d.ndim)\n",
    "\n",
    "print(\"Shape:\", array_2d.shape)\n",
    "\n",
    "print(\"Size:\", array_2d.size)"
   ]
  },
  {
   "cell_type": "code",
   "execution_count": 2,
   "id": "edfe7f91",
   "metadata": {},
   "outputs": [
    {
     "name": "stdout",
     "output_type": "stream",
     "text": [
      "Data: [10 20 20 30 40 50 50 50 60 70]\n",
      "Mean: 40.0\n",
      "Median: 45.0\n",
      "Variance: 340.0\n",
      "Standard Deviation: 18.439088914585774\n"
     ]
    }
   ],
   "source": [
    "import numpy as np\n",
    "from scipy import stats\n",
    "\n",
    "data = np.array([10, 20, 20, 30, 40, 50, 50, 50, 60, 70])\n",
    "\n",
    "mean = np.mean(data)\n",
    "median = np.median(data)\n",
    "mode_result = stats.mode(data)  \n",
    "# mode = mode_result.mode[0]  # Access the mode from the 'mode' attribute\n",
    "variance = np.var(data, ddof=0)\n",
    "standard_deviation = np.std(data, ddof=0)\n",
    "\n",
    "# Output results\n",
    "print(\"Data:\", data)\n",
    "print(\"Mean:\", mean)\n",
    "print(\"Median:\", median)\n",
    "print(\"Variance:\", variance)\n",
    "print(\"Standard Deviation:\", standard_deviation)\n"
   ]
  },
  {
   "cell_type": "code",
   "execution_count": 3,
   "id": "90437d89",
   "metadata": {},
   "outputs": [
    {
     "name": "stdout",
     "output_type": "stream",
     "text": [
      "108\n",
      "64.73020933072904\n"
     ]
    }
   ],
   "source": [
    "from scipy.spatial.distance import cityblock, euclidean\n",
    "\n",
    "d1 = [2,5,6,2]\n",
    "d2 = [1,43,54,23]\n",
    "\n",
    "print(cityblock(d1, d2))\n",
    "print(euclidean(d1, d2))"
   ]
  }
 ],
 "metadata": {
  "kernelspec": {
   "display_name": "Python 3",
   "language": "python",
   "name": "python3"
  },
  "language_info": {
   "codemirror_mode": {
    "name": "ipython",
    "version": 3
   },
   "file_extension": ".py",
   "mimetype": "text/x-python",
   "name": "python",
   "nbconvert_exporter": "python",
   "pygments_lexer": "ipython3",
   "version": "3.13.1"
  }
 },
 "nbformat": 4,
 "nbformat_minor": 5
}
