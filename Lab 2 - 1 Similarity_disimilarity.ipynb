{
 "cells": [
  {
   "cell_type": "code",
   "execution_count": 1,
   "id": "dc8737fa",
   "metadata": {},
   "outputs": [
    {
     "name": "stdout",
     "output_type": "stream",
     "text": [
      "[[0.         0.53851648 0.50990195 ... 4.45982062 4.65080638 4.14004831]\n",
      " [0.53851648 0.         0.3        ... 4.49888875 4.71805044 4.15331193]\n",
      " [0.50990195 0.3        0.         ... 4.66154481 4.84871117 4.29883705]\n",
      " ...\n",
      " [4.45982062 4.49888875 4.66154481 ... 0.         0.6164414  0.64031242]\n",
      " [4.65080638 4.71805044 4.84871117 ... 0.6164414  0.         0.76811457]\n",
      " [4.14004831 4.15331193 4.29883705 ... 0.64031242 0.76811457 0.        ]]\n"
     ]
    }
   ],
   "source": [
    "#Normalization - Euclidean\n",
    "\n",
    "from scipy.spatial.distance import euclidean\n",
    "import numpy as np\n",
    "import seaborn as sns\n",
    "\n",
    "# Load the Iris dataset\n",
    "df = sns.load_dataset(\"iris\")\n",
    "x = df[['sepal_length', 'sepal_width', 'petal_length', 'petal_width']].to_numpy()\n",
    "\n",
    "def compute_dissimilarity_matrix(x):\n",
    "    n = len(x)\n",
    "    matrix = np.zeros((n, n))\n",
    "    for i in range(n):\n",
    "        for j in range(n):\n",
    "            matrix[i][j] = euclidean(x[i], x[j])\n",
    "    return matrix\n",
    "\n",
    "# Compute the dissimilarity matrix\n",
    "matrix = compute_dissimilarity_matrix(x)\n",
    "print(matrix)\n"
   ]
  },
  {
   "cell_type": "code",
   "execution_count": 2,
   "id": "b4d3e830",
   "metadata": {},
   "outputs": [
    {
     "name": "stdout",
     "output_type": "stream",
     "text": [
      "     sepal_length  sepal_width  petal_length  petal_width\n",
      "0             5.1          3.5           1.4          0.2\n",
      "1             4.9          3.0           1.4          0.2\n",
      "2             4.7          3.2           1.3          0.2\n",
      "3             4.6          3.1           1.5          0.2\n",
      "4             5.0          3.6           1.4          0.2\n",
      "..            ...          ...           ...          ...\n",
      "145           6.7          3.0           5.2          2.3\n",
      "146           6.3          2.5           5.0          1.9\n",
      "147           6.5          3.0           5.2          2.0\n",
      "148           6.2          3.4           5.4          2.3\n",
      "149           5.9          3.0           5.1          1.8\n",
      "\n",
      "[150 rows x 4 columns]\n",
      "0         setosa\n",
      "1         setosa\n",
      "2         setosa\n",
      "3         setosa\n",
      "4         setosa\n",
      "         ...    \n",
      "145    virginica\n",
      "146    virginica\n",
      "147    virginica\n",
      "148    virginica\n",
      "149    virginica\n",
      "Name: species, Length: 150, dtype: object\n",
      "\n",
      " Max N:\n",
      "\n",
      "      sepal_length  sepal_width  petal_length  petal_width\n",
      "0        0.645570     0.795455      0.202899         0.08\n",
      "1        0.620253     0.681818      0.202899         0.08\n",
      "2        0.594937     0.727273      0.188406         0.08\n",
      "3        0.582278     0.704545      0.217391         0.08\n",
      "4        0.632911     0.818182      0.202899         0.08\n",
      "..            ...          ...           ...          ...\n",
      "145      0.848101     0.681818      0.753623         0.92\n",
      "146      0.797468     0.568182      0.724638         0.76\n",
      "147      0.822785     0.681818      0.753623         0.80\n",
      "148      0.784810     0.772727      0.782609         0.92\n",
      "149      0.746835     0.681818      0.739130         0.72\n",
      "\n",
      "[150 rows x 4 columns]\n",
      "\n",
      " Min Max N:\n",
      "\n",
      "      sepal_length  sepal_width  petal_length  petal_width\n",
      "0        0.222222     0.625000      0.067797     0.041667\n",
      "1        0.166667     0.416667      0.067797     0.041667\n",
      "2        0.111111     0.500000      0.050847     0.041667\n",
      "3        0.083333     0.458333      0.084746     0.041667\n",
      "4        0.194444     0.666667      0.067797     0.041667\n",
      "..            ...          ...           ...          ...\n",
      "145      0.666667     0.416667      0.711864     0.916667\n",
      "146      0.555556     0.208333      0.677966     0.750000\n",
      "147      0.611111     0.416667      0.711864     0.791667\n",
      "148      0.527778     0.583333      0.745763     0.916667\n",
      "149      0.444444     0.416667      0.694915     0.708333\n",
      "\n",
      "[150 rows x 4 columns]\n",
      "\n",
      " Upper Lower N:\n",
      "\n",
      "      sepal_length  sepal_width  petal_length  petal_width\n",
      "0       11.012658    13.409091     10.579710         10.4\n",
      "1       10.759494    12.272727     10.579710         10.4\n",
      "2       10.506329    12.727273     10.434783         10.4\n",
      "3       10.379747    12.500000     10.724638         10.4\n",
      "4       10.886076    13.636364     10.579710         10.4\n",
      "..            ...          ...           ...          ...\n",
      "145     13.037975    12.272727     16.086957         18.8\n",
      "146     12.531646    11.136364     15.797101         17.2\n",
      "147     12.784810    12.272727     16.086957         17.6\n",
      "148     12.405063    13.181818     16.376812         18.8\n",
      "149     12.025316    12.272727     15.942029         16.8\n",
      "\n",
      "[150 rows x 4 columns]\n",
      "\n",
      " Z-Score N:\n",
      "\n",
      "      sepal_length  sepal_width  petal_length  petal_width\n",
      "0       -0.900681     1.019004     -1.340227    -1.315444\n",
      "1       -1.143017    -0.131979     -1.340227    -1.315444\n",
      "2       -1.385353     0.328414     -1.397064    -1.315444\n",
      "3       -1.506521     0.098217     -1.283389    -1.315444\n",
      "4       -1.021849     1.249201     -1.340227    -1.315444\n",
      "..            ...          ...           ...          ...\n",
      "145      1.038005    -0.131979      0.819596     1.448832\n",
      "146      0.553333    -1.282963      0.705921     0.922303\n",
      "147      0.795669    -0.131979      0.819596     1.053935\n",
      "148      0.432165     0.788808      0.933271     1.448832\n",
      "149      0.068662    -0.131979      0.762758     0.790671\n",
      "\n",
      "[150 rows x 4 columns]\n"
     ]
    }
   ],
   "source": [
    "import seaborn as sns\n",
    "import numpy as np\n",
    "\n",
    "iris=sns.load_dataset(\"iris\")\n",
    "x=iris.iloc[:,:-1]\n",
    "print(x)\n",
    "y=iris.iloc[:,-1]\n",
    "print(y)\n",
    "\n",
    "#1-Max Normalization\n",
    "max1=x/(np.max(x,axis=0))\n",
    "print(\"\\n Max N:\\n\\n\",max1)\n",
    "\n",
    "#2-Min Max Normalization\n",
    "min_max=(x-np.min(x,axis=0))/(np.max(x,axis=0)-np.min(x,axis=0))\n",
    "print(\"\\n Min Max N:\\n\\n\",min_max)\n",
    "\n",
    "#3-Upper Lower Normalization\n",
    "u=20\n",
    "l=10\n",
    "max2=((x-np.min(x,axis=0))/(np.max(x,axis=0))*(u-l)+l)\n",
    "print(\"\\n Upper Lower N:\\n\\n\",max2)\n",
    "\n",
    "#Z-Score Normalization\n",
    "z_score=(x-np.mean(x,axis=0))/(np.std(x,axis=0))\n",
    "print(\"\\n Z-Score N:\\n\\n\",z_score)"
   ]
  },
  {
   "cell_type": "code",
   "execution_count": 3,
   "id": "5738310d",
   "metadata": {},
   "outputs": [
    {
     "name": "stdout",
     "output_type": "stream",
     "text": [
      "[[2 1 1 3]\n",
      " [3 3 0 2]\n",
      " [0 0 2 1]\n",
      " [1 3 2 3]\n",
      " [3 3 0 1]] \n",
      "\n",
      "[[0.         2.64575131 3.16227766 2.44948974 3.16227766]\n",
      " [2.64575131 0.         4.79583152 3.         1.        ]\n",
      " [3.16227766 4.79583152 0.         3.74165739 4.69041576]\n",
      " [2.44948974 3.         3.74165739 0.         3.46410162]\n",
      " [3.16227766 1.         4.69041576 3.46410162 0.        ]]\n"
     ]
    }
   ],
   "source": [
    "##Compute Dissimilarity matrix for the given Pattern matrix\n",
    "\n",
    "from scipy.spatial.distance import euclidean\n",
    "import numpy as np\n",
    "\n",
    "# Generate random matrix x with values between 0 and 3\n",
    "x = np.random.randint(0, 4, size=(5, 4), dtype=int)\n",
    "print(x, \"\\n\")\n",
    "\n",
    "def compute_dissimilarity_matrix(x):\n",
    "    n = len(x)\n",
    "    matrix = np.zeros((n, n))\n",
    "    for i in range(n):\n",
    "        for j in range(n):\n",
    "            matrix[i][j] = euclidean(x[i], x[j])  # Calculate the Euclidean distance\n",
    "    return matrix\n",
    "\n",
    "# Compute the dissimilarity matrix\n",
    "matrix = compute_dissimilarity_matrix(x)\n",
    "print(matrix)\n"
   ]
  },
  {
   "cell_type": "code",
   "execution_count": 4,
   "id": "c50e6217",
   "metadata": {},
   "outputs": [
    {
     "name": "stdout",
     "output_type": "stream",
     "text": [
      "[[1.         0.5        0.5        0.33333333]\n",
      " [0.5        1.         1.         0.        ]\n",
      " [0.5        1.         1.         0.        ]\n",
      " [0.33333333 0.         0.         1.        ]]\n"
     ]
    }
   ],
   "source": [
    "#Jaccards - 1.Binary\n",
    "\n",
    "import numpy as np\n",
    "from sklearn.metrics import jaccard_score\n",
    "\n",
    "# Input matrix\n",
    "x = np.array([[1, 0, 1, 1],\n",
    "              [1, 1, 1, 0],\n",
    "              [1, 1, 1, 0],\n",
    "              [0, 0, 0, 1]])\n",
    "\n",
    "def compute_jaccard_similarity_matrix(x):\n",
    "    n = len(x)\n",
    "    matrix = np.zeros((n, n))\n",
    "    \n",
    "    # Calculate Jaccard similarity between each pair of rows\n",
    "    for i in range(n):\n",
    "        for j in range(n):\n",
    "            # We need to ensure both x[i] and x[j] are flattened (1D)\n",
    "            matrix[i][j] = jaccard_score(x[i], x[j])  # This computes Jaccard similarity directly\n",
    "    \n",
    "    return matrix\n",
    "\n",
    "# Compute the Jaccard similarity matrix\n",
    "matrix = compute_jaccard_similarity_matrix(x)\n",
    "print(matrix)\n"
   ]
  },
  {
   "cell_type": "code",
   "execution_count": 5,
   "id": "1c7f5209",
   "metadata": {},
   "outputs": [
    {
     "name": "stdout",
     "output_type": "stream",
     "text": [
      "[[3 2 5 4]\n",
      " [2 3 4 5]] \n",
      "\n",
      "Cosine Similarity matrix : \n",
      "[[1.         0.96296296]\n",
      " [0.96296296 1.        ]]\n"
     ]
    },
    {
     "name": "stderr",
     "output_type": "stream",
     "text": [
      "/tmp/ipykernel_12960/3241082090.py:19: DeprecationWarning: Conversion of an array with ndim > 0 to a scalar is deprecated, and will error in future. Ensure you extract a single element from your array before performing this operation. (Deprecated NumPy 1.25.)\n",
      "  matrix[i,j] = cosine_similarity(x[i].reshape(1,-1), x[j].reshape(1,-1))\n",
      "/tmp/ipykernel_12960/3241082090.py:19: DeprecationWarning: Conversion of an array with ndim > 0 to a scalar is deprecated, and will error in future. Ensure you extract a single element from your array before performing this operation. (Deprecated NumPy 1.25.)\n",
      "  matrix[i,j] = cosine_similarity(x[i].reshape(1,-1), x[j].reshape(1,-1))\n",
      "/tmp/ipykernel_12960/3241082090.py:19: DeprecationWarning: Conversion of an array with ndim > 0 to a scalar is deprecated, and will error in future. Ensure you extract a single element from your array before performing this operation. (Deprecated NumPy 1.25.)\n",
      "  matrix[i,j] = cosine_similarity(x[i].reshape(1,-1), x[j].reshape(1,-1))\n",
      "/tmp/ipykernel_12960/3241082090.py:19: DeprecationWarning: Conversion of an array with ndim > 0 to a scalar is deprecated, and will error in future. Ensure you extract a single element from your array before performing this operation. (Deprecated NumPy 1.25.)\n",
      "  matrix[i,j] = cosine_similarity(x[i].reshape(1,-1), x[j].reshape(1,-1))\n"
     ]
    }
   ],
   "source": [
    "#Jaccards - 3.Not Binary\n",
    "\n",
    "import numpy as np\n",
    "from sklearn.metrics.pairwise import cosine_similarity\n",
    "\n",
    "# Input matrix\n",
    "x = np.array([[3,2,5,4],\n",
    "              [2,3,4,5]])\n",
    "print(x,\"\\n\")\n",
    "\n",
    "def compute_similarity_matrix(x):\n",
    "    n = len(x)\n",
    "    matrix = np.zeros((x.shape[0],x.shape[0]))\n",
    "    \n",
    "    # Calculate Jaccard similarity between each pair of rows\n",
    "    for i in range(n):\n",
    "        for j in range(n):\n",
    "            # We need to ensure both x[i] and x[j] are flattened (1D)\n",
    "            matrix[i,j] = cosine_similarity(x[i].reshape(1,-1), x[j].reshape(1,-1))\n",
    "    return matrix\n",
    "\n",
    "# Compute the Jaccard similarity matrix\n",
    "similarity_matrix = compute_similarity_matrix(x)\n",
    "print(\"Cosine Similarity matrix : \")\n",
    "print(similarity_matrix)\n"
   ]
  },
  {
   "cell_type": "code",
   "execution_count": 6,
   "id": "7702b2f9",
   "metadata": {},
   "outputs": [
    {
     "name": "stdout",
     "output_type": "stream",
     "text": [
      "jaccards_similarity : \n",
      "[[1.         0.33333333]\n",
      " [0.33333333 1.        ]]\n"
     ]
    }
   ],
   "source": [
    "#Jaccards - 3.Sets\n",
    "\n",
    "import numpy as np\n",
    "def compute_jaccards_similarity_matrix(sets):\n",
    "    n=len(sets)\n",
    "    matrix=np.zeros((n,n))\n",
    "    for i in range(n):\n",
    "        for j in range(n):\n",
    "            intersection=len(sets[i].intersection(sets[j]))\n",
    "            union=len(sets[i].union(sets[j]))\n",
    "            matrix[i,j]=intersection/union\n",
    "    return matrix\n",
    "sets=[{1,2,5,7},{2,3,5,8}]\n",
    "\n",
    "similarity_matrix = compute_jaccards_similarity_matrix(sets)\n",
    "print(\"jaccards_similarity : \")\n",
    "print(similarity_matrix)\n",
    "\n"
   ]
  },
  {
   "cell_type": "code",
   "execution_count": 7,
   "id": "b061b19d",
   "metadata": {},
   "outputs": [
    {
     "name": "stdout",
     "output_type": "stream",
     "text": [
      "Pearson Correlation coefficient :  -0.9999999999999999\n"
     ]
    }
   ],
   "source": [
    "#Pearson\n",
    "\n",
    "import numpy as np\n",
    "x=np.array([1,2,3,4,5])\n",
    "y=np.array([5,4,3,2,1])\n",
    "\n",
    "correlation_matrix=np.corrcoef(x,y)\n",
    "pearson_r=correlation_matrix[0,1]\n",
    "print(\"Pearson Correlation coefficient : \",pearson_r)"
   ]
  }
 ],
 "metadata": {
  "kernelspec": {
   "display_name": "Python 3",
   "language": "python",
   "name": "python3"
  },
  "language_info": {
   "codemirror_mode": {
    "name": "ipython",
    "version": 3
   },
   "file_extension": ".py",
   "mimetype": "text/x-python",
   "name": "python",
   "nbconvert_exporter": "python",
   "pygments_lexer": "ipython3",
   "version": "3.13.1"
  }
 },
 "nbformat": 4,
 "nbformat_minor": 5
}
